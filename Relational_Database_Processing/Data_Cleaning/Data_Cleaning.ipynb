{
 "cells": [
  {
   "cell_type": "code",
   "execution_count": 1,
   "metadata": {},
   "outputs": [],
   "source": [
    "# Import Pandas\n",
    "import pandas as pd"
   ]
  },
  {
   "cell_type": "code",
   "execution_count": 2,
   "metadata": {},
   "outputs": [],
   "source": [
    "#Clean and export company rating data to a csv\n",
    "filepath = \"../../Scraping/CSV_files/company_rating.csv\"\n",
    "company_rating = pd.read_csv(filepath)\n",
    "\n",
    "#Fill NaN value to No Rating\n",
    "com_rating_df=company_rating.fillna(\"No Rating\")\n",
    "\n",
    "#Save to CSV\n",
    "com_rating_df.to_csv('../Resources/company_rating.csv', index=False)\n"
   ]
  },
  {
   "cell_type": "code",
   "execution_count": 3,
   "metadata": {},
   "outputs": [],
   "source": [
    "##Clean and export housing data to a csv\n",
    "\n",
    "#Call First Scraping Housing Data\n",
    "filepath2 = \"../../Scraping/CSV_files/cleaned_combined_csv.csv\"\n",
    "housing = pd.read_csv(filepath2)\n",
    "housing_df=housing.rename(columns={\"Asking Price\":\"Asking_Price\"})\n",
    "\n",
    "\n",
    "#Remove Duplicates\n",
    "housing_df.drop_duplicates(subset=['Street'],inplace=True)\n",
    "\n",
    "housing_df=housing_df.drop(columns=[\"State\", \"Zip\"])\n",
    "\n",
    "#Save to CSV\n",
    "housing_df.to_csv('../Resources/housing.csv', index=False)"
   ]
  },
  {
   "cell_type": "code",
   "execution_count": 4,
   "metadata": {},
   "outputs": [],
   "source": [
    "city_df=pd.DataFrame({\"city\":housing_df[\"City\"].unique()})\n",
    "city_df.to_csv('../Resources/city.csv', index=False)"
   ]
  },
  {
   "cell_type": "code",
   "execution_count": 5,
   "metadata": {},
   "outputs": [],
   "source": [
    "##Clean and export company salary data to a csv\n",
    "\n",
    "#Call First Scraping salary Data\n",
    "filepath3 = \"../../Scraping/CSV_files/scrape_indeed_combined.csv\"\n",
    "salary_df = pd.read_csv(filepath3)\n",
    "\n",
    "#Fill NaN values \n",
    "salary_df[\"location\"]=salary_df[\"location\"].fillna(\" Los Angeles\")\n",
    "salary_df[\"salary\"]=salary_df[\"salary\"].fillna(\"Unknown\")\n",
    "\n",
    "#Create empty column\n",
    "salary_df[\"city\"]=\"\"\n",
    "salary_df[\"company_id\"]=\"\"\n",
    "\n",
    "\n",
    "#### Creating Company CSV###\n",
    "\n",
    "#Capturing company list\n",
    "com_id=list(salary_df[\"company\"].unique())\n",
    "\n",
    "#Creating a dataframe\n",
    "id_df=pd.DataFrame({\"company\":com_id})\n",
    "id_df[\"company_id\"]=id_df.index\n",
    "\n",
    "\n",
    "#Adding missing values to company rating CSV\n",
    "x=[]\n",
    "y=[]\n",
    "\n",
    "for index, row in id_df.iterrows():\n",
    "    if row['company'] not in list(com_rating_df[\"company\"]):\n",
    "        x.append(row['company'])\n",
    "        y.append(\"Rating Unknown\")\n",
    "\n",
    "dict={'company':x,'star':y}\n",
    "ad=pd.DataFrame(dict)\n",
    "\n",
    "com_rating_df=com_rating_df.append(ad, ignore_index=True)\n",
    "\n",
    "        \n",
    "#Export to CSV\n",
    "id_df.to_csv('../Resources/company.csv', index=False)\n",
    "com_rating_df.to_csv('../Resources/company_rating.csv', index=False)\n",
    "\n",
    "#########\n",
    "\n",
    "#Write out city\n",
    "for index, row in salary_df.iterrows():\n",
    "    row[\"city\"]=row[\"location\"].split(\",\")[0]\n",
    "\n",
    "    try:\n",
    "        row[\"company_id\"]=int(id_df.loc[id_df[\"company\"]==salary_df.loc[index,\"company\"],\"company_id\"])\n",
    "        \n",
    "    except (TypeError, IndexError):\n",
    "        row[\"company_id\"]=\"City Not Posted\"\n",
    "        \n",
    "\n",
    "#Drop the city not scraped\n",
    "for index, row in salary_df.iterrows():\n",
    "    if row['city'] not in list(city_df[\"city\"]):\n",
    "        salary_df=salary_df.drop([index])    \n",
    "\n",
    "#Add Index\n",
    "salary_df[\"index\"]=salary_df.index\n",
    "        \n",
    "#Export to CSV\n",
    "salary_df.to_csv('../Resources/company_salary.csv', index=False)\n"
   ]
  },
  {
   "cell_type": "code",
   "execution_count": null,
   "metadata": {},
   "outputs": [],
   "source": []
  }
 ],
 "metadata": {
  "kernelspec": {
   "display_name": "Python 3",
   "language": "python",
   "name": "python3"
  },
  "language_info": {
   "codemirror_mode": {
    "name": "ipython",
    "version": 3
   },
   "file_extension": ".py",
   "mimetype": "text/x-python",
   "name": "python",
   "nbconvert_exporter": "python",
   "pygments_lexer": "ipython3",
   "version": "3.7.4"
  }
 },
 "nbformat": 4,
 "nbformat_minor": 4
}
